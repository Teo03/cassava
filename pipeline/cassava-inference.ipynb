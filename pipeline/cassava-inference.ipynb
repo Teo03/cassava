{
 "cells": [
  {
   "cell_type": "markdown",
   "metadata": {
    "papermill": {
     "duration": 0.005772,
     "end_time": "2021-01-14T21:47:24.649770",
     "exception": false,
     "start_time": "2021-01-14T21:47:24.643998",
     "status": "completed"
    },
    "tags": []
   },
   "source": [
    "# Inference notebook (only for submissions)"
   ]
  },
  {
   "cell_type": "code",
   "execution_count": 1,
   "metadata": {
    "papermill": {
     "duration": 2.788096,
     "end_time": "2021-01-14T21:47:27.443140",
     "exception": false,
     "start_time": "2021-01-14T21:47:24.655044",
     "status": "completed"
    },
    "tags": []
   },
   "outputs": [],
   "source": [
    "from fastai.vision.all import *"
   ]
  },
  {
   "cell_type": "code",
   "execution_count": 2,
   "metadata": {
    "_cell_guid": "79c7e3d0-c299-4dcb-8224-4455121ee9b0",
    "_uuid": "d629ff2d2480ee46fbb7e2d37f6b5fab8052498a",
    "papermill": {
     "duration": 0.012052,
     "end_time": "2021-01-14T21:47:27.460741",
     "exception": false,
     "start_time": "2021-01-14T21:47:27.448689",
     "status": "completed"
    },
    "tags": []
   },
   "outputs": [],
   "source": [
    "path_str = '../data'\n",
    "PATH = Path(path_str)\n",
    "\n",
    "images_path = Path(path_str + '/train_images')\n",
    "csv_path = Path(path_str + '/train.csv')"
   ]
  },
  {
   "cell_type": "code",
   "execution_count": 11,
   "metadata": {
    "papermill": {
     "duration": 0.01179,
     "end_time": "2021-01-14T21:47:27.477478",
     "exception": false,
     "start_time": "2021-01-14T21:47:27.465688",
     "status": "completed"
    },
    "tags": []
   },
   "outputs": [],
   "source": [
    "class AlbumentationsTransform(RandTransform):\n",
    "    split_idx,order = None, 2\n",
    "    \n",
    "    def __init__(self, train_aug, valid_aug): \n",
    "        store_attr()\n",
    "    \n",
    "    def before_call(self, b, split_idx):\n",
    "        self.idx = split_idx\n",
    "    \n",
    "    def encodes(self, img: PILImage):\n",
    "        if self.idx == 0:\n",
    "            aug_img = self.train_aug(image=np.array(img))['image']\n",
    "        else:\n",
    "            aug_img = self.valid_aug(image=np.array(img))['image']\n",
    "        return PILImage.create(aug_img)\n",
    "\n",
    "\n",
    "def get_train_aug(size): \n",
    "    return albumentations.Compose([\n",
    "            albumentations.RandomResizedCrop(size,size),\n",
    "            albumentations.Transpose(p=0.5),\n",
    "            albumentations.HorizontalFlip(p=0.5),\n",
    "            albumentations.VerticalFlip(p=0.5),\n",
    "            albumentations.ShiftScaleRotate(p=0.5),\n",
    "            albumentations.HueSaturationValue(\n",
    "                hue_shift_limit=0.2, \n",
    "                sat_shift_limit=0.2, \n",
    "                val_shift_limit=0.2, \n",
    "                p=0.5\n",
    "            ),\n",
    "            albumentations.RandomBrightnessContrast(\n",
    "                brightness_limit=(-0.1,0.1), \n",
    "                contrast_limit=(-0.1, 0.1), \n",
    "                p=0.5\n",
    "            ),\n",
    "            albumentations.CoarseDropout(p=0.5),\n",
    "            albumentations.Cutout(p=0.5)\n",
    "])\n",
    "\n",
    "def get_valid_aug(size): \n",
    "    return albumentations.Compose([\n",
    "        albumentations.CenterCrop(size, size, p=1.),\n",
    "        albumentations.Resize(size, size),\n",
    "], p=1.)\n",
    "\n",
    "def get_x(row): return images_path/row['image_id']\n",
    "def get_y(row): return row['label']"
   ]
  },
  {
   "cell_type": "code",
   "execution_count": 12,
   "metadata": {
    "papermill": {
     "duration": 3.565758,
     "end_time": "2021-01-14T21:47:31.048302",
     "exception": false,
     "start_time": "2021-01-14T21:47:27.482544",
     "status": "completed"
    },
    "tags": []
   },
   "outputs": [],
   "source": [
    "learn = load_learner(Path('resnet18-fold0.pkl'))\n",
    "learn1 = load_learner(Path('resnet18-fold1.pkl'))"
   ]
  },
  {
   "cell_type": "code",
   "execution_count": 14,
   "metadata": {
    "papermill": {
     "duration": 3.482363,
     "end_time": "2021-01-14T21:47:34.536305",
     "exception": false,
     "start_time": "2021-01-14T21:47:31.053942",
     "status": "completed"
    },
    "tags": []
   },
   "outputs": [
    {
     "data": {
      "text/html": [
       "\n",
       "    <div>\n",
       "        <style>\n",
       "            /* Turns off some styling */\n",
       "            progress {\n",
       "                /* gets rid of default border in Firefox and Opera. */\n",
       "                border: none;\n",
       "                /* Needs to be in here for Safari polyfill so background images work as expected. */\n",
       "                background-size: auto;\n",
       "            }\n",
       "            .progress-bar-interrupted, .progress-bar-interrupted::-webkit-progress-bar {\n",
       "                background: #F44336;\n",
       "            }\n",
       "        </style>\n",
       "      <progress value='0' class='' max='1' style='width:300px; height:20px; vertical-align: middle;'></progress>\n",
       "      \n",
       "    </div>\n",
       "    \n"
      ],
      "text/plain": [
       "<IPython.core.display.HTML object>"
      ]
     },
     "metadata": {},
     "output_type": "display_data"
    },
    {
     "data": {
      "text/html": [],
      "text/plain": [
       "<IPython.core.display.HTML object>"
      ]
     },
     "metadata": {},
     "output_type": "display_data"
    },
    {
     "data": {
      "text/html": [
       "\n",
       "    <div>\n",
       "        <style>\n",
       "            /* Turns off some styling */\n",
       "            progress {\n",
       "                /* gets rid of default border in Firefox and Opera. */\n",
       "                border: none;\n",
       "                /* Needs to be in here for Safari polyfill so background images work as expected. */\n",
       "                background-size: auto;\n",
       "            }\n",
       "            .progress-bar-interrupted, .progress-bar-interrupted::-webkit-progress-bar {\n",
       "                background: #F44336;\n",
       "            }\n",
       "        </style>\n",
       "      <progress value='0' class='' max='1' style='width:300px; height:20px; vertical-align: middle;'></progress>\n",
       "      \n",
       "    </div>\n",
       "    \n"
      ],
      "text/plain": [
       "<IPython.core.display.HTML object>"
      ]
     },
     "metadata": {},
     "output_type": "display_data"
    },
    {
     "data": {
      "text/html": [],
      "text/plain": [
       "<IPython.core.display.HTML object>"
      ]
     },
     "metadata": {},
     "output_type": "display_data"
    }
   ],
   "source": [
    "submission_df = pd.read_csv(path_str + '/sample_submission.csv')\n",
    "test_data_path = submission_df['image_id'].apply(lambda x: path_str+'/test_images/'+x)\n",
    "\n",
    "learn_tst_dl = learn.dls.test_dl(test_data_path)\n",
    "learn1_tst_dl = learn1.dls.test_dl(test_data_path)\n",
    "\n",
    "\n",
    "## TODO: add item_tfms to .tta\n",
    "learn_predictions = learn.tta(dl=learn_tst_dl, n=3)\n",
    "learn1_predictions = learn1.tta(dl=learn1_tst_dl, n=3)\n",
    "\n",
    "predictions = (learn_predictions[0] + learn1_predictions[0]) / 2"
   ]
  },
  {
   "cell_type": "code",
   "execution_count": 15,
   "metadata": {
    "papermill": {
     "duration": 0.23368,
     "end_time": "2021-01-14T21:47:34.777729",
     "exception": false,
     "start_time": "2021-01-14T21:47:34.544049",
     "status": "completed"
    },
    "tags": []
   },
   "outputs": [],
   "source": [
    "submission_df['label'] = np.argmax(predictions, axis=1)\n",
    "\n",
    "submission_df.to_csv('submission.csv', index=False)"
   ]
  },
  {
   "cell_type": "code",
   "execution_count": null,
   "metadata": {
    "papermill": {
     "duration": 0.0116,
     "end_time": "2021-01-14T21:47:34.800578",
     "exception": false,
     "start_time": "2021-01-14T21:47:34.788978",
     "status": "completed"
    },
    "tags": []
   },
   "outputs": [],
   "source": []
  }
 ],
 "metadata": {
  "kernelspec": {
   "display_name": "Python 3",
   "language": "python",
   "name": "python3"
  },
  "language_info": {
   "codemirror_mode": {
    "name": "ipython",
    "version": 3
   },
   "file_extension": ".py",
   "mimetype": "text/x-python",
   "name": "python",
   "nbconvert_exporter": "python",
   "pygments_lexer": "ipython3",
   "version": "3.8.5"
  },
  "papermill": {
   "duration": 14.414613,
   "end_time": "2021-01-14T21:47:35.114752",
   "environment_variables": {},
   "exception": null,
   "input_path": "__notebook__.ipynb",
   "output_path": "__notebook__.ipynb",
   "parameters": {},
   "start_time": "2021-01-14T21:47:20.700139",
   "version": "2.1.0"
  }
 },
 "nbformat": 4,
 "nbformat_minor": 4
}
