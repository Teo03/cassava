{
 "cells": [
  {
   "cell_type": "markdown",
   "metadata": {
    "papermill": {
     "duration": 0.00805,
     "end_time": "2021-01-21T21:39:17.138392",
     "exception": false,
     "start_time": "2021-01-21T21:39:17.130342",
     "status": "completed"
    },
    "tags": []
   },
   "source": [
    "# Inference notebook (only for submissions)"
   ]
  },
  {
   "cell_type": "code",
   "execution_count": 1,
   "metadata": {
    "execution": {
     "iopub.execute_input": "2021-01-21T21:39:17.159200Z",
     "iopub.status.busy": "2021-01-21T21:39:17.158381Z",
     "iopub.status.idle": "2021-01-21T21:39:48.243376Z",
     "shell.execute_reply": "2021-01-21T21:39:48.242289Z"
    },
    "papermill": {
     "duration": 31.097654,
     "end_time": "2021-01-21T21:39:48.243533",
     "exception": false,
     "start_time": "2021-01-21T21:39:17.145879",
     "status": "completed"
    },
    "tags": []
   },
   "outputs": [
    {
     "name": "stdout",
     "output_type": "stream",
     "text": [
      "Processing /kaggle/input/efficientnet-pytorch\n",
      "Requirement already satisfied: torch in /opt/conda/lib/python3.7/site-packages (from efficientnet-pytorch==0.7.0) (1.7.0)\n",
      "Requirement already satisfied: future in /opt/conda/lib/python3.7/site-packages (from torch->efficientnet-pytorch==0.7.0) (0.18.2)\n",
      "Requirement already satisfied: typing_extensions in /opt/conda/lib/python3.7/site-packages (from torch->efficientnet-pytorch==0.7.0) (3.7.4.1)\n",
      "Requirement already satisfied: dataclasses in /opt/conda/lib/python3.7/site-packages (from torch->efficientnet-pytorch==0.7.0) (0.6)\n",
      "Requirement already satisfied: numpy in /opt/conda/lib/python3.7/site-packages (from torch->efficientnet-pytorch==0.7.0) (1.18.5)\n",
      "Building wheels for collected packages: efficientnet-pytorch\n",
      "  Building wheel for efficientnet-pytorch (setup.py) ... \u001b[?25ldone\n",
      "\u001b[?25h  Created wheel for efficientnet-pytorch: filename=efficientnet_pytorch-0.7.0-py3-none-any.whl size=20193 sha256=6d4b9190886bd7819c2bc0b3021a591a817f07decb1aa6571b178cf49dee2fee\n",
      "  Stored in directory: /root/.cache/pip/wheels/c4/11/46/c78f049f947bbd6a0dc92e74951904c9b2fa9192864ed474dd\n",
      "Successfully built efficientnet-pytorch\n",
      "Installing collected packages: efficientnet-pytorch\n",
      "Successfully installed efficientnet-pytorch-0.7.0\n"
     ]
    }
   ],
   "source": [
    "! pip install ../input/efficientnet-pytorch"
   ]
  },
  {
   "cell_type": "code",
   "execution_count": 2,
   "metadata": {
    "execution": {
     "iopub.execute_input": "2021-01-21T21:39:48.270539Z",
     "iopub.status.busy": "2021-01-21T21:39:48.269679Z",
     "iopub.status.idle": "2021-01-21T21:39:51.439053Z",
     "shell.execute_reply": "2021-01-21T21:39:51.437985Z"
    },
    "papermill": {
     "duration": 3.184218,
     "end_time": "2021-01-21T21:39:51.439187",
     "exception": false,
     "start_time": "2021-01-21T21:39:48.254969",
     "status": "completed"
    },
    "tags": []
   },
   "outputs": [],
   "source": [
    "from fastai.vision.all import *\n",
    "from efficientnet_pytorch import EfficientNet"
   ]
  },
  {
   "cell_type": "code",
   "execution_count": 3,
   "metadata": {
    "_cell_guid": "79c7e3d0-c299-4dcb-8224-4455121ee9b0",
    "_uuid": "d629ff2d2480ee46fbb7e2d37f6b5fab8052498a",
    "execution": {
     "iopub.execute_input": "2021-01-21T21:39:51.467124Z",
     "iopub.status.busy": "2021-01-21T21:39:51.466493Z",
     "iopub.status.idle": "2021-01-21T21:39:51.477160Z",
     "shell.execute_reply": "2021-01-21T21:39:51.476599Z"
    },
    "papermill": {
     "duration": 0.027719,
     "end_time": "2021-01-21T21:39:51.477259",
     "exception": false,
     "start_time": "2021-01-21T21:39:51.449540",
     "status": "completed"
    },
    "tags": []
   },
   "outputs": [],
   "source": [
    "# this is only for submissions\n",
    "\n",
    "path_str = '../input/cassava-leaf-disease-classification'\n",
    "submission_df = pd.read_csv(path_str + '/sample_submission.csv')\n",
    "test_images_path = path_str + '/test_images/'"
   ]
  },
  {
   "cell_type": "code",
   "execution_count": 4,
   "metadata": {
    "execution": {
     "iopub.execute_input": "2021-01-21T21:39:51.513563Z",
     "iopub.status.busy": "2021-01-21T21:39:51.510515Z",
     "iopub.status.idle": "2021-01-21T21:39:51.516103Z",
     "shell.execute_reply": "2021-01-21T21:39:51.515622Z"
    },
    "papermill": {
     "duration": 0.028578,
     "end_time": "2021-01-21T21:39:51.516197",
     "exception": false,
     "start_time": "2021-01-21T21:39:51.487619",
     "status": "completed"
    },
    "tags": []
   },
   "outputs": [],
   "source": [
    "class AlbumentationsTransform(RandTransform):\n",
    "    split_idx,order = None, 2\n",
    "    \n",
    "    def __init__(self, train_aug, valid_aug): \n",
    "        store_attr()\n",
    "    \n",
    "    def before_call(self, b, split_idx):\n",
    "        self.idx = split_idx\n",
    "    \n",
    "    def encodes(self, img: PILImage):\n",
    "        if self.idx == 0:\n",
    "            aug_img = self.train_aug(image=np.array(img))['image']\n",
    "        else:\n",
    "            aug_img = self.valid_aug(image=np.array(img))['image']\n",
    "        return PILImage.create(aug_img)\n",
    "\n",
    "\n",
    "def get_train_aug(size): \n",
    "    return albumentations.Compose([\n",
    "            #albumentations.Resize(size, size), # keep this?\n",
    "            albumentations.RandomResizedCrop(size,size),\n",
    "            albumentations.Transpose(p=0.5),\n",
    "            albumentations.HorizontalFlip(p=0.5),\n",
    "            albumentations.VerticalFlip(p=0.5),\n",
    "            albumentations.ShiftScaleRotate(p=0.5),\n",
    "            albumentations.HueSaturationValue(\n",
    "                hue_shift_limit=0.2, \n",
    "                sat_shift_limit=0.2, \n",
    "                val_shift_limit=0.2, \n",
    "                p=0.5\n",
    "            ),\n",
    "            albumentations.RandomBrightnessContrast(\n",
    "                brightness_limit=(-0.1,0.1), \n",
    "                contrast_limit=(-0.1, 0.1), \n",
    "                p=0.5\n",
    "            ),\n",
    "            albumentations.CoarseDropout(p=0.5),\n",
    "            albumentations.Cutout(p=0.5)\n",
    "])\n",
    "\n",
    "def get_valid_aug(size): \n",
    "    return albumentations.Compose([\n",
    "        albumentations.CenterCrop(size, size, p=1.),\n",
    "        albumentations.Resize(size, size),\n",
    "], p=1.)\n",
    "\n",
    "def get_x(row): return images_path/row['image_id']\n",
    "def get_y(row): return row['label']"
   ]
  },
  {
   "cell_type": "code",
   "execution_count": 5,
   "metadata": {
    "execution": {
     "iopub.execute_input": "2021-01-21T21:39:51.541887Z",
     "iopub.status.busy": "2021-01-21T21:39:51.541296Z",
     "iopub.status.idle": "2021-01-21T21:40:04.300116Z",
     "shell.execute_reply": "2021-01-21T21:40:04.299235Z"
    },
    "papermill": {
     "duration": 12.773658,
     "end_time": "2021-01-21T21:40:04.300246",
     "exception": false,
     "start_time": "2021-01-21T21:39:51.526588",
     "status": "completed"
    },
    "tags": []
   },
   "outputs": [],
   "source": [
    "learn = load_learner(Path('../input/effnetmodels/model-f0.pkl'), cpu=False).to_fp16()\n",
    "learn1 = load_learner(Path('../input/effnetmodels/model-f1.pkl'), cpu=False).to_fp16()\n",
    "learn2 = load_learner(Path('../input/effnetmodels/model-f2.pkl'), cpu=False).to_fp16()"
   ]
  },
  {
   "cell_type": "code",
   "execution_count": 6,
   "metadata": {
    "execution": {
     "iopub.execute_input": "2021-01-21T21:40:04.346207Z",
     "iopub.status.busy": "2021-01-21T21:40:04.342484Z",
     "iopub.status.idle": "2021-01-21T21:40:04.348556Z",
     "shell.execute_reply": "2021-01-21T21:40:04.349046Z"
    },
    "papermill": {
     "duration": 0.036969,
     "end_time": "2021-01-21T21:40:04.349180",
     "exception": false,
     "start_time": "2021-01-21T21:40:04.312211",
     "status": "completed"
    },
    "tags": []
   },
   "outputs": [],
   "source": [
    "test_data_path = submission_df['image_id'].apply(lambda x: test_images_path+x)\n",
    "\n",
    "learn_tst_dl = learn.dls.test_dl(test_data_path)\n",
    "learn1_tst_dl = learn1.dls.test_dl(test_data_path)\n",
    "learn2_tst_dl = learn2.dls.test_dl(test_data_path)"
   ]
  },
  {
   "cell_type": "code",
   "execution_count": 7,
   "metadata": {
    "execution": {
     "iopub.execute_input": "2021-01-21T21:40:04.377078Z",
     "iopub.status.busy": "2021-01-21T21:40:04.376466Z",
     "iopub.status.idle": "2021-01-21T21:40:06.946642Z",
     "shell.execute_reply": "2021-01-21T21:40:06.946099Z"
    },
    "papermill": {
     "duration": 2.58702,
     "end_time": "2021-01-21T21:40:06.946788",
     "exception": false,
     "start_time": "2021-01-21T21:40:04.359768",
     "status": "completed"
    },
    "tags": []
   },
   "outputs": [
    {
     "data": {
      "text/html": [],
      "text/plain": [
       "<IPython.core.display.HTML object>"
      ]
     },
     "metadata": {},
     "output_type": "display_data"
    },
    {
     "data": {
      "text/html": [],
      "text/plain": [
       "<IPython.core.display.HTML object>"
      ]
     },
     "metadata": {},
     "output_type": "display_data"
    },
    {
     "data": {
      "text/html": [],
      "text/plain": [
       "<IPython.core.display.HTML object>"
      ]
     },
     "metadata": {},
     "output_type": "display_data"
    }
   ],
   "source": [
    "## TODO: add item_tfms to .tta\n",
    "learn_predictions = learn.get_preds(dl=learn_tst_dl)\n",
    "learn1_predictions = learn1.get_preds(dl=learn1_tst_dl)\n",
    "learn2_predictions = learn2.get_preds(dl=learn2_tst_dl)\n",
    "\n",
    "predictions = (learn_predictions[0] + learn1_predictions[0] + learn2_predictions[0]) / 3"
   ]
  },
  {
   "cell_type": "code",
   "execution_count": 8,
   "metadata": {
    "execution": {
     "iopub.execute_input": "2021-01-21T21:40:06.984548Z",
     "iopub.status.busy": "2021-01-21T21:40:06.983843Z",
     "iopub.status.idle": "2021-01-21T21:40:07.241150Z",
     "shell.execute_reply": "2021-01-21T21:40:07.240237Z"
    },
    "papermill": {
     "duration": 0.28098,
     "end_time": "2021-01-21T21:40:07.241289",
     "exception": false,
     "start_time": "2021-01-21T21:40:06.960309",
     "status": "completed"
    },
    "tags": []
   },
   "outputs": [],
   "source": [
    "submission_df['label'] = np.argmax(predictions, axis=1)\n",
    "\n",
    "submission_df.to_csv('submission.csv', index=False)"
   ]
  },
  {
   "cell_type": "code",
   "execution_count": null,
   "metadata": {
    "papermill": {
     "duration": 0.013015,
     "end_time": "2021-01-21T21:40:07.267789",
     "exception": false,
     "start_time": "2021-01-21T21:40:07.254774",
     "status": "completed"
    },
    "tags": []
   },
   "outputs": [],
   "source": []
  }
 ],
 "metadata": {
  "kernelspec": {
   "display_name": "Python 3",
   "language": "python",
   "name": "python3"
  },
  "language_info": {
   "codemirror_mode": {
    "name": "ipython",
    "version": 3
   },
   "file_extension": ".py",
   "mimetype": "text/x-python",
   "name": "python",
   "nbconvert_exporter": "python",
   "pygments_lexer": "ipython3",
   "version": "3.8.5"
  },
  "papermill": {
   "duration": 55.891117,
   "end_time": "2021-01-21T21:40:08.513450",
   "environment_variables": {},
   "exception": null,
   "input_path": "__notebook__.ipynb",
   "output_path": "__notebook__.ipynb",
   "parameters": {},
   "start_time": "2021-01-21T21:39:12.622333",
   "version": "2.1.0"
  }
 },
 "nbformat": 4,
 "nbformat_minor": 4
}
