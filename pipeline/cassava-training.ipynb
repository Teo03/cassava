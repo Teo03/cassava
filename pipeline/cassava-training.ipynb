{
 "cells": [
  {
   "cell_type": "markdown",
   "metadata": {
    "papermill": {
     "duration": 0.008617,
     "end_time": "2021-02-15T05:43:58.753807",
     "exception": false,
     "start_time": "2021-02-15T05:43:58.745190",
     "status": "completed"
    },
    "tags": []
   },
   "source": [
    "# Imports"
   ]
  },
  {
   "cell_type": "code",
   "execution_count": 2,
   "metadata": {
    "execution": {
     "iopub.execute_input": "2021-02-15T05:43:58.798209Z",
     "iopub.status.busy": "2021-02-15T05:43:58.797476Z",
     "iopub.status.idle": "2021-02-15T05:44:05.203344Z",
     "shell.execute_reply": "2021-02-15T05:44:05.202801Z"
    },
    "papermill": {
     "duration": 6.419351,
     "end_time": "2021-02-15T05:44:05.203473",
     "exception": false,
     "start_time": "2021-02-15T05:43:58.784122",
     "status": "completed"
    },
    "tags": []
   },
   "outputs": [],
   "source": [
    "from fastai.vision.all import *\n",
    "from fastai.vision.core import *\n",
    "from fastai.callback.fp16 import *\n",
    "\n",
    "from fastai.callback.cutmix import *\n",
    "from torch.distributions.beta import Beta\n",
    "\n",
    "from fastai.callback.wandb import *\n",
    "import torchvision.models as models\n",
    "import pandas as pd\n",
    "import numpy as np\n",
    "import distillation\n",
    "\n",
    "#from efficientnet_pytorch import EfficientNet\n",
    "import albumentations\n",
    "import wandb\n",
    "#import sys\n",
    "#sys.path.append('../input/timm2021/pytorch-image-models-master')\n",
    "#import timm"
   ]
  },
  {
   "cell_type": "markdown",
   "metadata": {
    "papermill": {
     "duration": 0.007511,
     "end_time": "2021-02-15T05:44:05.219349",
     "exception": false,
     "start_time": "2021-02-15T05:44:05.211838",
     "status": "completed"
    },
    "tags": []
   },
   "source": [
    "# Setup"
   ]
  },
  {
   "cell_type": "code",
   "execution_count": 3,
   "metadata": {
    "execution": {
     "iopub.execute_input": "2021-02-15T05:44:05.244291Z",
     "iopub.status.busy": "2021-02-15T05:44:05.243655Z",
     "iopub.status.idle": "2021-02-15T05:44:05.247592Z",
     "shell.execute_reply": "2021-02-15T05:44:05.247134Z"
    },
    "papermill": {
     "duration": 0.020743,
     "end_time": "2021-02-15T05:44:05.247694",
     "exception": false,
     "start_time": "2021-02-15T05:44:05.226951",
     "status": "completed"
    },
    "tags": []
   },
   "outputs": [],
   "source": [
    "class Config:\n",
    "    testing     = False # must be same as create-folds.ipynb\n",
    "    image_size  = 512\n",
    "    batch_size  = 16\n",
    "    epochs      = 10\n",
    "    f_epochs    = 1\n",
    "    train_folds = ['f2']\n",
    "    arch        = 'efficientnet-b4'\n",
    "    \n",
    "cfg = Config()"
   ]
  },
  {
   "cell_type": "code",
   "execution_count": 4,
   "metadata": {
    "execution": {
     "iopub.execute_input": "2021-02-15T05:44:05.269483Z",
     "iopub.status.busy": "2021-02-15T05:44:05.267754Z",
     "iopub.status.idle": "2021-02-15T05:44:05.270081Z",
     "shell.execute_reply": "2021-02-15T05:44:05.270498Z"
    },
    "papermill": {
     "duration": 0.014893,
     "end_time": "2021-02-15T05:44:05.270614",
     "exception": false,
     "start_time": "2021-02-15T05:44:05.255721",
     "status": "completed"
    },
    "tags": []
   },
   "outputs": [],
   "source": [
    "def set_seeds():\n",
    "    random.seed(42)\n",
    "    np.random.seed(42)\n",
    "    torch.manual_seed(42)\n",
    "    torch.backends.cudnn.deterministic = True\n",
    "    torch.backends.cudnn.benchmark = False\n",
    "    \n",
    "set_seeds()"
   ]
  },
  {
   "cell_type": "code",
   "execution_count": 5,
   "metadata": {
    "execution": {
     "iopub.execute_input": "2021-02-15T05:44:05.294104Z",
     "iopub.status.busy": "2021-02-15T05:44:05.293585Z",
     "iopub.status.idle": "2021-02-15T05:44:05.352400Z",
     "shell.execute_reply": "2021-02-15T05:44:05.351904Z"
    },
    "papermill": {
     "duration": 0.074193,
     "end_time": "2021-02-15T05:44:05.352524",
     "exception": false,
     "start_time": "2021-02-15T05:44:05.278331",
     "status": "completed"
    },
    "tags": []
   },
   "outputs": [],
   "source": [
    "path_str = '../input/cassava-leaf-disease-merged'\n",
    "\n",
    "images_path = Path(path_str + '/train')\n",
    "csv_path = Path(path_str + '/merged.csv')\n",
    "folds_path = Path('../input/fold-indexes/folds-merged.csv')\n",
    "\n",
    "full_df = pd.read_csv(csv_path)\n",
    "folds_df = pd.read_csv(folds_path)\n",
    "\n",
    "# drop rows so we get an even number for our folds and remove duplicates\n",
    "full_df = full_df[~full_df['image_id'].isin(['1562043567.jpg', '3551135685.jpg', '2252529694.jpg', '1000015157.jpg', '1000201771.jpg', '100042118.jpg', '1001723730.jpg'])]"
   ]
  },
  {
   "cell_type": "markdown",
   "metadata": {
    "papermill": {
     "duration": 0.007703,
     "end_time": "2021-02-15T05:44:05.368737",
     "exception": false,
     "start_time": "2021-02-15T05:44:05.361034",
     "status": "completed"
    },
    "tags": []
   },
   "source": [
    "# Create a test dataset"
   ]
  },
  {
   "cell_type": "code",
   "execution_count": 6,
   "metadata": {
    "execution": {
     "iopub.execute_input": "2021-02-15T05:44:05.391043Z",
     "iopub.status.busy": "2021-02-15T05:44:05.390173Z",
     "iopub.status.idle": "2021-02-15T05:44:11.590128Z",
     "shell.execute_reply": "2021-02-15T05:44:11.590511Z"
    },
    "papermill": {
     "duration": 6.21395,
     "end_time": "2021-02-15T05:44:11.590661",
     "exception": false,
     "start_time": "2021-02-15T05:44:05.376711",
     "status": "completed"
    },
    "tags": []
   },
   "outputs": [
    {
     "name": "stderr",
     "output_type": "stream",
     "text": [
      "\u001b[34m\u001b[1mwandb\u001b[0m: W&B API key is configured (use `wandb login --relogin` to force relogin)\n",
      "\u001b[34m\u001b[1mwandb\u001b[0m: \u001b[33mWARNING\u001b[0m If you're specifying your api key in code, ensure this code is not shared publically.\n",
      "\u001b[34m\u001b[1mwandb\u001b[0m: \u001b[33mWARNING\u001b[0m Consider setting the WANDB_API_KEY environment variable, or running `wandb login` from the command line.\n",
      "\u001b[34m\u001b[1mwandb\u001b[0m: Appending key for api.wandb.ai to your netrc file: /root/.netrc\n",
      "\u001b[34m\u001b[1mwandb\u001b[0m: Currently logged in as: \u001b[33mteo03\u001b[0m (use `wandb login --relogin` to force relogin)\n",
      "\u001b[34m\u001b[1mwandb\u001b[0m: wandb version 0.10.19 is available!  To upgrade, please run:\n",
      "\u001b[34m\u001b[1mwandb\u001b[0m:  $ pip install wandb --upgrade\n"
     ]
    },
    {
     "data": {
      "text/html": [
       "\n",
       "                Tracking run with wandb version 0.10.18<br/>\n",
       "                Syncing run <strong style=\"color:#cdcd00\">blissful-hug-166</strong> to <a href=\"https://wandb.ai\" target=\"_blank\">Weights & Biases</a> <a href=\"https://docs.wandb.com/integrations/jupyter.html\" target=\"_blank\">(Documentation)</a>.<br/>\n",
       "                Project page: <a href=\"https://wandb.ai/teo03/cassava\" target=\"_blank\">https://wandb.ai/teo03/cassava</a><br/>\n",
       "                Run page: <a href=\"https://wandb.ai/teo03/cassava/runs/qqmxbhpe\" target=\"_blank\">https://wandb.ai/teo03/cassava/runs/qqmxbhpe</a><br/>\n",
       "                Run data is saved locally in <code>/kaggle/working/wandb/run-20210215_054405-qqmxbhpe</code><br/><br/>\n",
       "            "
      ],
      "text/plain": [
       "<IPython.core.display.HTML object>"
      ]
     },
     "metadata": {},
     "output_type": "display_data"
    },
    {
     "data": {
      "text/plain": [
       "26330"
      ]
     },
     "execution_count": 6,
     "metadata": {},
     "output_type": "execute_result"
    }
   ],
   "source": [
    "if cfg.testing:\n",
    "    full_df = full_df.tail(120)#.head(120)\n",
    "else:\n",
    "    wandb.login(key=\"11b470b697ff94b3896d2243b147d42177a5cb7a\")\n",
    "    wandb.init(project=\"cassava\", entity=\"teo03\")\n",
    "\n",
    "len(full_df)"
   ]
  },
  {
   "cell_type": "markdown",
   "metadata": {
    "papermill": {
     "duration": 0.010405,
     "end_time": "2021-02-15T05:44:11.613217",
     "exception": false,
     "start_time": "2021-02-15T05:44:11.602812",
     "status": "completed"
    },
    "tags": []
   },
   "source": [
    "# Augmentation and train functions"
   ]
  },
  {
   "cell_type": "code",
   "execution_count": 7,
   "metadata": {
    "execution": {
     "iopub.execute_input": "2021-02-15T05:44:11.649184Z",
     "iopub.status.busy": "2021-02-15T05:44:11.648351Z",
     "iopub.status.idle": "2021-02-15T05:44:11.650880Z",
     "shell.execute_reply": "2021-02-15T05:44:11.650445Z"
    },
    "papermill": {
     "duration": 0.027182,
     "end_time": "2021-02-15T05:44:11.651004",
     "exception": false,
     "start_time": "2021-02-15T05:44:11.623822",
     "status": "completed"
    },
    "tags": []
   },
   "outputs": [],
   "source": [
    "class AlbumentationsTransform(RandTransform):\n",
    "    split_idx,order = None, 2\n",
    "    \n",
    "    def __init__(self, train_aug, valid_aug): \n",
    "        store_attr()\n",
    "    \n",
    "    def before_call(self, b, split_idx):\n",
    "        self.idx = split_idx\n",
    "    \n",
    "    def encodes(self, img: PILImage):\n",
    "        if self.idx == 0:\n",
    "            aug_img = self.train_aug(image=np.array(img))['image']\n",
    "        else:\n",
    "            aug_img = self.valid_aug(image=np.array(img))['image']\n",
    "        return PILImage.create(aug_img)\n",
    "\n",
    "\n",
    "def get_train_aug(size): \n",
    "    return albumentations.Compose([\n",
    "            albumentations.RandomResizedCrop(size,size),\n",
    "            albumentations.Transpose(p=0.5),\n",
    "            albumentations.HorizontalFlip(p=0.5),\n",
    "            albumentations.VerticalFlip(p=0.5),\n",
    "            albumentations.ShiftScaleRotate(p=0.5),\n",
    "            albumentations.HueSaturationValue(\n",
    "                hue_shift_limit=0.2, \n",
    "                sat_shift_limit=0.2, \n",
    "                val_shift_limit=0.2, \n",
    "                p=0.5\n",
    "            ),\n",
    "            albumentations.RandomBrightnessContrast(\n",
    "                brightness_limit=(-0.1,0.1), \n",
    "                contrast_limit=(-0.1, 0.1), \n",
    "                p=0.5\n",
    "            ),\n",
    "            albumentations.CoarseDropout(p=0.5),\n",
    "            albumentations.Cutout(p=0.5)\n",
    "])\n",
    "\n",
    "def get_valid_aug(size): \n",
    "    return albumentations.Compose([\n",
    "        albumentations.Resize(size, size),\n",
    "        albumentations.CenterCrop(size, size, p=1.),\n",
    "], p=1.)\n",
    "\n",
    "def get_x(row): return images_path/row['image_id']\n",
    "def get_y(row): return row['label']"
   ]
  },
  {
   "cell_type": "code",
   "execution_count": 8,
   "metadata": {
    "execution": {
     "iopub.execute_input": "2021-02-15T05:44:11.705961Z",
     "iopub.status.busy": "2021-02-15T05:44:11.704907Z",
     "iopub.status.idle": "2021-02-15T05:44:11.712766Z",
     "shell.execute_reply": "2021-02-15T05:44:11.711854Z"
    },
    "papermill": {
     "duration": 0.039307,
     "end_time": "2021-02-15T05:44:11.712907",
     "exception": false,
     "start_time": "2021-02-15T05:44:11.673600",
     "status": "completed"
    },
    "tags": []
   },
   "outputs": [],
   "source": [
    "def train(dls, fold):\n",
    "    \n",
    "    #model = EfficientNet.from_pretrained(cfg.arch, num_classes=5)\n",
    "    model = models.resnext50_32x4d(pretrained=True)\n",
    "    n_features = model.fc.in_features\n",
    "    model.fc = nn.Linear(n_features, 5)\n",
    "    \n",
    "    fold_name = f'model-{fold}'\n",
    "\n",
    "    # define learners\n",
    "    t_learn = Learner(\n",
    "        dls=dls,\n",
    "        model=model,\n",
    "        opt_func=ranger,\n",
    "        metrics=accuracy,\n",
    "        loss_func=LabelSmoothingCrossEntropy(),\n",
    "        cbs=[CutMix()]\n",
    "    ).to_fp16()\n",
    "    \n",
    "    s_learn = Learner(\n",
    "        dls=dls,\n",
    "        model = model,\n",
    "        opt_func=ranger,\n",
    "        metrics=accuracy,\n",
    "        loss_func=LabelSmoothingCrossEntropy(),\n",
    "        cbs=[\n",
    "            WandbCallback(log_preds=False, log_model=True, n_preds=2),\n",
    "            SaveModelCallback(\n",
    "                monitor='accuracy',\n",
    "                fname=fold_name,\n",
    "                with_opt=True,\n",
    "                every_epoch=False\n",
    "            ),\n",
    "            CutMix(),\n",
    "        ]\n",
    "    ).to_fp16()\n",
    "    \n",
    "    lr = 0.001\n",
    "    \n",
    "    # teacher model training\n",
    "    if not cfg.testing:\n",
    "        lr_min, lr_steep = t_learn.lr_find(show_plot=False)\n",
    "        lr = round(lr_min, 5)\n",
    "        print(f'found lr of({lr_min}): {round(lr_min, 5)}')\n",
    "    \n",
    "\n",
    "    t_learn.fine_tune(\n",
    "        cfg.epochs,\n",
    "        base_lr=lr,\n",
    "        freeze_epochs=cfg.f_epochs,\n",
    "    )\n",
    "    \n",
    "    \n",
    "    # student model training\n",
    "    if not cfg.testing:\n",
    "        lr_min, lr_steep = s_learn.lr_find(show_plot=False)\n",
    "        lr = round(lr_min, 5)\n",
    "        print(f'found lr of({lr_min}): {round(lr_min,5)}')\n",
    "        \n",
    "    s_learn.fine_tune(\n",
    "        cfg.epochs,\n",
    "        base_lr=lr,\n",
    "        freeze_epochs=cfg.f_epochs,\n",
    "        cbs = [distillation.KnowledgeDistillation(s_learn,t_learn)]\n",
    "    )\n",
    "    \n",
    "    s_learn.load(fold_name) # load the best .pth\n",
    "    s_learn.export(fold_name + '.pkl') # export as .pkl\n",
    "    \n",
    "    return s_learn"
   ]
  },
  {
   "cell_type": "markdown",
   "metadata": {
    "papermill": {
     "duration": 0.015321,
     "end_time": "2021-02-15T05:44:11.739317",
     "exception": false,
     "start_time": "2021-02-15T05:44:11.723996",
     "status": "completed"
    },
    "tags": []
   },
   "source": [
    "# Training\n",
    "train models on different folds of our data"
   ]
  },
  {
   "cell_type": "code",
   "execution_count": 9,
   "metadata": {
    "execution": {
     "iopub.execute_input": "2021-02-15T05:44:11.775543Z",
     "iopub.status.busy": "2021-02-15T05:44:11.774611Z",
     "iopub.status.idle": "2021-02-15T11:35:09.680163Z",
     "shell.execute_reply": "2021-02-15T11:35:09.679501Z"
    },
    "papermill": {
     "duration": 21057.928848,
     "end_time": "2021-02-15T11:35:09.680367",
     "exception": false,
     "start_time": "2021-02-15T05:44:11.751519",
     "status": "completed"
    },
    "tags": []
   },
   "outputs": [
    {
     "name": "stdout",
     "output_type": "stream",
     "text": [
      "started training on f2\n"
     ]
    },
    {
     "name": "stderr",
     "output_type": "stream",
     "text": [
      "Downloading: \"https://download.pytorch.org/models/resnext50_32x4d-7cdf4587.pth\" to /root/.cache/torch/hub/checkpoints/resnext50_32x4d-7cdf4587.pth\n"
     ]
    },
    {
     "data": {
      "application/vnd.jupyter.widget-view+json": {
       "model_id": "15558522d3df403cb7ab70bc30564894",
       "version_major": 2,
       "version_minor": 0
      },
      "text/plain": [
       "  0%|          | 0.00/95.8M [00:00<?, ?B/s]"
      ]
     },
     "metadata": {},
     "output_type": "display_data"
    },
    {
     "data": {
      "text/html": [],
      "text/plain": [
       "<IPython.core.display.HTML object>"
      ]
     },
     "metadata": {},
     "output_type": "display_data"
    },
    {
     "name": "stdout",
     "output_type": "stream",
     "text": [
      "found lr of(0.00036307806149125097): 0.00036\n"
     ]
    },
    {
     "data": {
      "text/html": [
       "<table border=\"1\" class=\"dataframe\">\n",
       "  <thead>\n",
       "    <tr style=\"text-align: left;\">\n",
       "      <th>epoch</th>\n",
       "      <th>train_loss</th>\n",
       "      <th>valid_loss</th>\n",
       "      <th>accuracy</th>\n",
       "      <th>time</th>\n",
       "    </tr>\n",
       "  </thead>\n",
       "  <tbody>\n",
       "    <tr>\n",
       "      <td>0</td>\n",
       "      <td>0.984100</td>\n",
       "      <td>0.744054</td>\n",
       "      <td>0.835169</td>\n",
       "      <td>15:52</td>\n",
       "    </tr>\n",
       "  </tbody>\n",
       "</table>"
      ],
      "text/plain": [
       "<IPython.core.display.HTML object>"
      ]
     },
     "metadata": {},
     "output_type": "display_data"
    },
    {
     "data": {
      "text/html": [
       "<table border=\"1\" class=\"dataframe\">\n",
       "  <thead>\n",
       "    <tr style=\"text-align: left;\">\n",
       "      <th>epoch</th>\n",
       "      <th>train_loss</th>\n",
       "      <th>valid_loss</th>\n",
       "      <th>accuracy</th>\n",
       "      <th>time</th>\n",
       "    </tr>\n",
       "  </thead>\n",
       "  <tbody>\n",
       "    <tr>\n",
       "      <td>0</td>\n",
       "      <td>0.905833</td>\n",
       "      <td>0.662316</td>\n",
       "      <td>0.876946</td>\n",
       "      <td>15:43</td>\n",
       "    </tr>\n",
       "    <tr>\n",
       "      <td>1</td>\n",
       "      <td>0.882039</td>\n",
       "      <td>0.690031</td>\n",
       "      <td>0.872959</td>\n",
       "      <td>15:41</td>\n",
       "    </tr>\n",
       "    <tr>\n",
       "      <td>2</td>\n",
       "      <td>0.902743</td>\n",
       "      <td>0.666859</td>\n",
       "      <td>0.879605</td>\n",
       "      <td>15:41</td>\n",
       "    </tr>\n",
       "    <tr>\n",
       "      <td>3</td>\n",
       "      <td>0.893516</td>\n",
       "      <td>0.656848</td>\n",
       "      <td>0.881314</td>\n",
       "      <td>15:42</td>\n",
       "    </tr>\n",
       "    <tr>\n",
       "      <td>4</td>\n",
       "      <td>0.889118</td>\n",
       "      <td>0.670288</td>\n",
       "      <td>0.870870</td>\n",
       "      <td>15:41</td>\n",
       "    </tr>\n",
       "    <tr>\n",
       "      <td>5</td>\n",
       "      <td>0.850248</td>\n",
       "      <td>0.645329</td>\n",
       "      <td>0.882074</td>\n",
       "      <td>15:43</td>\n",
       "    </tr>\n",
       "    <tr>\n",
       "      <td>6</td>\n",
       "      <td>0.808538</td>\n",
       "      <td>0.630913</td>\n",
       "      <td>0.892518</td>\n",
       "      <td>15:46</td>\n",
       "    </tr>\n",
       "    <tr>\n",
       "      <td>7</td>\n",
       "      <td>0.795659</td>\n",
       "      <td>0.619909</td>\n",
       "      <td>0.895936</td>\n",
       "      <td>15:45</td>\n",
       "    </tr>\n",
       "    <tr>\n",
       "      <td>8</td>\n",
       "      <td>0.831243</td>\n",
       "      <td>0.616539</td>\n",
       "      <td>0.898025</td>\n",
       "      <td>15:43</td>\n",
       "    </tr>\n",
       "    <tr>\n",
       "      <td>9</td>\n",
       "      <td>0.799600</td>\n",
       "      <td>0.614685</td>\n",
       "      <td>0.897455</td>\n",
       "      <td>15:43</td>\n",
       "    </tr>\n",
       "  </tbody>\n",
       "</table>"
      ],
      "text/plain": [
       "<IPython.core.display.HTML object>"
      ]
     },
     "metadata": {},
     "output_type": "display_data"
    },
    {
     "data": {
      "text/html": [],
      "text/plain": [
       "<IPython.core.display.HTML object>"
      ]
     },
     "metadata": {},
     "output_type": "display_data"
    },
    {
     "name": "stdout",
     "output_type": "stream",
     "text": [
      "found lr of(8.31763736641733e-07): 0.0\n"
     ]
    },
    {
     "data": {
      "text/html": [
       "<table border=\"1\" class=\"dataframe\">\n",
       "  <thead>\n",
       "    <tr style=\"text-align: left;\">\n",
       "      <th>epoch</th>\n",
       "      <th>train_loss</th>\n",
       "      <th>valid_loss</th>\n",
       "      <th>accuracy</th>\n",
       "      <th>time</th>\n",
       "    </tr>\n",
       "  </thead>\n",
       "  <tbody>\n",
       "    <tr>\n",
       "      <td>0</td>\n",
       "      <td>0.828110</td>\n",
       "      <td>0.617928</td>\n",
       "      <td>0.897455</td>\n",
       "      <td>15:48</td>\n",
       "    </tr>\n",
       "  </tbody>\n",
       "</table>"
      ],
      "text/plain": [
       "<IPython.core.display.HTML object>"
      ]
     },
     "metadata": {},
     "output_type": "display_data"
    },
    {
     "name": "stdout",
     "output_type": "stream",
     "text": [
      "Better model found at epoch 0 with accuracy value: 0.8974553942680359.\n"
     ]
    },
    {
     "data": {
      "text/html": [
       "<table border=\"1\" class=\"dataframe\">\n",
       "  <thead>\n",
       "    <tr style=\"text-align: left;\">\n",
       "      <th>epoch</th>\n",
       "      <th>train_loss</th>\n",
       "      <th>valid_loss</th>\n",
       "      <th>accuracy</th>\n",
       "      <th>time</th>\n",
       "    </tr>\n",
       "  </thead>\n",
       "  <tbody>\n",
       "    <tr>\n",
       "      <td>0</td>\n",
       "      <td>0.845611</td>\n",
       "      <td>0.616480</td>\n",
       "      <td>0.898025</td>\n",
       "      <td>15:56</td>\n",
       "    </tr>\n",
       "    <tr>\n",
       "      <td>1</td>\n",
       "      <td>0.808787</td>\n",
       "      <td>0.615922</td>\n",
       "      <td>0.897645</td>\n",
       "      <td>15:56</td>\n",
       "    </tr>\n",
       "    <tr>\n",
       "      <td>2</td>\n",
       "      <td>0.803948</td>\n",
       "      <td>0.613997</td>\n",
       "      <td>0.898025</td>\n",
       "      <td>15:58</td>\n",
       "    </tr>\n",
       "    <tr>\n",
       "      <td>3</td>\n",
       "      <td>0.833842</td>\n",
       "      <td>0.618190</td>\n",
       "      <td>0.895556</td>\n",
       "      <td>15:55</td>\n",
       "    </tr>\n",
       "    <tr>\n",
       "      <td>4</td>\n",
       "      <td>0.827288</td>\n",
       "      <td>0.615982</td>\n",
       "      <td>0.897265</td>\n",
       "      <td>15:54</td>\n",
       "    </tr>\n",
       "    <tr>\n",
       "      <td>5</td>\n",
       "      <td>0.819964</td>\n",
       "      <td>0.616442</td>\n",
       "      <td>0.897645</td>\n",
       "      <td>15:54</td>\n",
       "    </tr>\n",
       "    <tr>\n",
       "      <td>6</td>\n",
       "      <td>0.833721</td>\n",
       "      <td>0.614693</td>\n",
       "      <td>0.897645</td>\n",
       "      <td>15:57</td>\n",
       "    </tr>\n",
       "    <tr>\n",
       "      <td>7</td>\n",
       "      <td>0.812893</td>\n",
       "      <td>0.614553</td>\n",
       "      <td>0.898405</td>\n",
       "      <td>15:57</td>\n",
       "    </tr>\n",
       "    <tr>\n",
       "      <td>8</td>\n",
       "      <td>0.805492</td>\n",
       "      <td>0.616613</td>\n",
       "      <td>0.897455</td>\n",
       "      <td>15:58</td>\n",
       "    </tr>\n",
       "    <tr>\n",
       "      <td>9</td>\n",
       "      <td>0.794504</td>\n",
       "      <td>0.614755</td>\n",
       "      <td>0.897835</td>\n",
       "      <td>15:57</td>\n",
       "    </tr>\n",
       "  </tbody>\n",
       "</table>"
      ],
      "text/plain": [
       "<IPython.core.display.HTML object>"
      ]
     },
     "metadata": {},
     "output_type": "display_data"
    },
    {
     "name": "stdout",
     "output_type": "stream",
     "text": [
      "Better model found at epoch 0 with accuracy value: 0.8980250954627991.\n",
      "Better model found at epoch 7 with accuracy value: 0.8984048366546631.\n",
      "training on ['f2'] done\n"
     ]
    }
   ],
   "source": [
    "for fold in cfg.train_folds:\n",
    "    val_index = folds_df[fold].to_numpy()\n",
    "    \n",
    "    print(f'started training on {fold}')\n",
    "    \n",
    "    train_block = DataBlock(\n",
    "        blocks=(ImageBlock, CategoryBlock),\n",
    "        get_x=get_x,\n",
    "        get_y=get_y,\n",
    "        splitter=IndexSplitter(val_index),\n",
    "        item_tfms= [\n",
    "            AlbumentationsTransform(\n",
    "                get_train_aug(size=cfg.image_size),\n",
    "                get_valid_aug(size=cfg.image_size)\n",
    "            )\n",
    "        ],\n",
    "        batch_tfms=[Normalize.from_stats(*imagenet_stats)]\n",
    "    )\n",
    "\n",
    "    dls = train_block.dataloaders(full_df, bs=cfg.batch_size)\n",
    "    learn = train(dls, fold)\n",
    "\n",
    "print(f'training on {cfg.train_folds} done')"
   ]
  },
  {
   "cell_type": "code",
   "execution_count": null,
   "metadata": {
    "papermill": {
     "duration": 0.01855,
     "end_time": "2021-02-15T11:35:09.717764",
     "exception": false,
     "start_time": "2021-02-15T11:35:09.699214",
     "status": "completed"
    },
    "tags": []
   },
   "outputs": [],
   "source": []
  }
 ],
 "metadata": {
  "kernelspec": {
   "display_name": "Python 3",
   "language": "python",
   "name": "python3"
  },
  "language_info": {
   "codemirror_mode": {
    "name": "ipython",
    "version": 3
   },
   "file_extension": ".py",
   "mimetype": "text/x-python",
   "name": "python",
   "nbconvert_exporter": "python",
   "pygments_lexer": "ipython3",
   "version": "3.8.5"
  },
  "papermill": {
   "default_parameters": {},
   "duration": 21082.165833,
   "end_time": "2021-02-15T11:35:16.053282",
   "environment_variables": {},
   "exception": null,
   "input_path": "__notebook__.ipynb",
   "output_path": "__notebook__.ipynb",
   "parameters": {},
   "start_time": "2021-02-15T05:43:53.887449",
   "version": "2.2.2"
  },
  "widgets": {
   "application/vnd.jupyter.widget-state+json": {
    "state": {
     "0a2a0da39be64d3194d92a2d4d595eea": {
      "model_module": "@jupyter-widgets/controls",
      "model_module_version": "1.5.0",
      "model_name": "DescriptionStyleModel",
      "state": {
       "_model_module": "@jupyter-widgets/controls",
       "_model_module_version": "1.5.0",
       "_model_name": "DescriptionStyleModel",
       "_view_count": null,
       "_view_module": "@jupyter-widgets/base",
       "_view_module_version": "1.2.0",
       "_view_name": "StyleView",
       "description_width": ""
      }
     },
     "0ad1f269a2ed405d9e6677cd3e56213d": {
      "model_module": "@jupyter-widgets/base",
      "model_module_version": "1.2.0",
      "model_name": "LayoutModel",
      "state": {
       "_model_module": "@jupyter-widgets/base",
       "_model_module_version": "1.2.0",
       "_model_name": "LayoutModel",
       "_view_count": null,
       "_view_module": "@jupyter-widgets/base",
       "_view_module_version": "1.2.0",
       "_view_name": "LayoutView",
       "align_content": null,
       "align_items": null,
       "align_self": null,
       "border": null,
       "bottom": null,
       "display": null,
       "flex": null,
       "flex_flow": null,
       "grid_area": null,
       "grid_auto_columns": null,
       "grid_auto_flow": null,
       "grid_auto_rows": null,
       "grid_column": null,
       "grid_gap": null,
       "grid_row": null,
       "grid_template_areas": null,
       "grid_template_columns": null,
       "grid_template_rows": null,
       "height": null,
       "justify_content": null,
       "justify_items": null,
       "left": null,
       "margin": null,
       "max_height": null,
       "max_width": null,
       "min_height": null,
       "min_width": null,
       "object_fit": null,
       "object_position": null,
       "order": null,
       "overflow": null,
       "overflow_x": null,
       "overflow_y": null,
       "padding": null,
       "right": null,
       "top": null,
       "visibility": null,
       "width": null
      }
     },
     "10f6313d177c4aa189bce798a1560587": {
      "model_module": "@jupyter-widgets/controls",
      "model_module_version": "1.5.0",
      "model_name": "FloatProgressModel",
      "state": {
       "_dom_classes": [],
       "_model_module": "@jupyter-widgets/controls",
       "_model_module_version": "1.5.0",
       "_model_name": "FloatProgressModel",
       "_view_count": null,
       "_view_module": "@jupyter-widgets/controls",
       "_view_module_version": "1.5.0",
       "_view_name": "ProgressView",
       "bar_style": "",
       "description": "",
       "description_tooltip": null,
       "layout": "IPY_MODEL_46f6d1a6f7c1463aab8e0b4d38ae3ad5",
       "max": 1,
       "min": 0,
       "orientation": "horizontal",
       "style": "IPY_MODEL_922b32e2020143a19e614de9aa7232cb",
       "value": 0
      }
     },
     "15558522d3df403cb7ab70bc30564894": {
      "model_module": "@jupyter-widgets/controls",
      "model_module_version": "1.5.0",
      "model_name": "HBoxModel",
      "state": {
       "_dom_classes": [],
       "_model_module": "@jupyter-widgets/controls",
       "_model_module_version": "1.5.0",
       "_model_name": "HBoxModel",
       "_view_count": null,
       "_view_module": "@jupyter-widgets/controls",
       "_view_module_version": "1.5.0",
       "_view_name": "HBoxView",
       "box_style": "",
       "children": [
        "IPY_MODEL_ad53c19d091a4ab5a72de90179dd7349",
        "IPY_MODEL_ffe93041819c4515800b754df6486df4",
        "IPY_MODEL_6b9528e35fac45ca8a21277b48f680a7"
       ],
       "layout": "IPY_MODEL_0ad1f269a2ed405d9e6677cd3e56213d"
      }
     },
     "1fc02d4e526145ef9d422a25379f863c": {
      "model_module": "@jupyter-widgets/base",
      "model_module_version": "1.2.0",
      "model_name": "LayoutModel",
      "state": {
       "_model_module": "@jupyter-widgets/base",
       "_model_module_version": "1.2.0",
       "_model_name": "LayoutModel",
       "_view_count": null,
       "_view_module": "@jupyter-widgets/base",
       "_view_module_version": "1.2.0",
       "_view_name": "LayoutView",
       "align_content": null,
       "align_items": null,
       "align_self": null,
       "border": null,
       "bottom": null,
       "display": null,
       "flex": null,
       "flex_flow": null,
       "grid_area": null,
       "grid_auto_columns": null,
       "grid_auto_flow": null,
       "grid_auto_rows": null,
       "grid_column": null,
       "grid_gap": null,
       "grid_row": null,
       "grid_template_areas": null,
       "grid_template_columns": null,
       "grid_template_rows": null,
       "height": null,
       "justify_content": null,
       "justify_items": null,
       "left": null,
       "margin": null,
       "max_height": null,
       "max_width": null,
       "min_height": null,
       "min_width": null,
       "object_fit": null,
       "object_position": null,
       "order": null,
       "overflow": null,
       "overflow_x": null,
       "overflow_y": null,
       "padding": null,
       "right": null,
       "top": null,
       "visibility": null,
       "width": null
      }
     },
     "337627ba6bba4b7d8cc6c0a825a8aa12": {
      "model_module": "@jupyter-widgets/base",
      "model_module_version": "1.2.0",
      "model_name": "LayoutModel",
      "state": {
       "_model_module": "@jupyter-widgets/base",
       "_model_module_version": "1.2.0",
       "_model_name": "LayoutModel",
       "_view_count": null,
       "_view_module": "@jupyter-widgets/base",
       "_view_module_version": "1.2.0",
       "_view_name": "LayoutView",
       "align_content": null,
       "align_items": null,
       "align_self": null,
       "border": null,
       "bottom": null,
       "display": null,
       "flex": null,
       "flex_flow": null,
       "grid_area": null,
       "grid_auto_columns": null,
       "grid_auto_flow": null,
       "grid_auto_rows": null,
       "grid_column": null,
       "grid_gap": null,
       "grid_row": null,
       "grid_template_areas": null,
       "grid_template_columns": null,
       "grid_template_rows": null,
       "height": null,
       "justify_content": null,
       "justify_items": null,
       "left": null,
       "margin": null,
       "max_height": null,
       "max_width": null,
       "min_height": null,
       "min_width": null,
       "object_fit": null,
       "object_position": null,
       "order": null,
       "overflow": null,
       "overflow_x": null,
       "overflow_y": null,
       "padding": null,
       "right": null,
       "top": null,
       "visibility": null,
       "width": null
      }
     },
     "46f6d1a6f7c1463aab8e0b4d38ae3ad5": {
      "model_module": "@jupyter-widgets/base",
      "model_module_version": "1.2.0",
      "model_name": "LayoutModel",
      "state": {
       "_model_module": "@jupyter-widgets/base",
       "_model_module_version": "1.2.0",
       "_model_name": "LayoutModel",
       "_view_count": null,
       "_view_module": "@jupyter-widgets/base",
       "_view_module_version": "1.2.0",
       "_view_name": "LayoutView",
       "align_content": null,
       "align_items": null,
       "align_self": null,
       "border": null,
       "bottom": null,
       "display": null,
       "flex": null,
       "flex_flow": null,
       "grid_area": null,
       "grid_auto_columns": null,
       "grid_auto_flow": null,
       "grid_auto_rows": null,
       "grid_column": null,
       "grid_gap": null,
       "grid_row": null,
       "grid_template_areas": null,
       "grid_template_columns": null,
       "grid_template_rows": null,
       "height": null,
       "justify_content": null,
       "justify_items": null,
       "left": null,
       "margin": null,
       "max_height": null,
       "max_width": null,
       "min_height": null,
       "min_width": null,
       "object_fit": null,
       "object_position": null,
       "order": null,
       "overflow": null,
       "overflow_x": null,
       "overflow_y": null,
       "padding": null,
       "right": null,
       "top": null,
       "visibility": null,
       "width": null
      }
     },
     "4a661dc12338474f965d239bb93f8f06": {
      "model_module": "@jupyter-widgets/controls",
      "model_module_version": "1.5.0",
      "model_name": "DescriptionStyleModel",
      "state": {
       "_model_module": "@jupyter-widgets/controls",
       "_model_module_version": "1.5.0",
       "_model_name": "DescriptionStyleModel",
       "_view_count": null,
       "_view_module": "@jupyter-widgets/base",
       "_view_module_version": "1.2.0",
       "_view_name": "StyleView",
       "description_width": ""
      }
     },
     "539f4a87dd6340cf86e1ea78f2f92cfc": {
      "model_module": "@jupyter-widgets/controls",
      "model_module_version": "1.5.0",
      "model_name": "ProgressStyleModel",
      "state": {
       "_model_module": "@jupyter-widgets/controls",
       "_model_module_version": "1.5.0",
       "_model_name": "ProgressStyleModel",
       "_view_count": null,
       "_view_module": "@jupyter-widgets/base",
       "_view_module_version": "1.2.0",
       "_view_name": "StyleView",
       "bar_color": null,
       "description_width": ""
      }
     },
     "5b561754602b47c0b3e4b88f8121bea8": {
      "model_module": "@jupyter-widgets/base",
      "model_module_version": "1.2.0",
      "model_name": "LayoutModel",
      "state": {
       "_model_module": "@jupyter-widgets/base",
       "_model_module_version": "1.2.0",
       "_model_name": "LayoutModel",
       "_view_count": null,
       "_view_module": "@jupyter-widgets/base",
       "_view_module_version": "1.2.0",
       "_view_name": "LayoutView",
       "align_content": null,
       "align_items": null,
       "align_self": null,
       "border": null,
       "bottom": null,
       "display": null,
       "flex": null,
       "flex_flow": null,
       "grid_area": null,
       "grid_auto_columns": null,
       "grid_auto_flow": null,
       "grid_auto_rows": null,
       "grid_column": null,
       "grid_gap": null,
       "grid_row": null,
       "grid_template_areas": null,
       "grid_template_columns": null,
       "grid_template_rows": null,
       "height": null,
       "justify_content": null,
       "justify_items": null,
       "left": null,
       "margin": null,
       "max_height": null,
       "max_width": null,
       "min_height": null,
       "min_width": null,
       "object_fit": null,
       "object_position": null,
       "order": null,
       "overflow": null,
       "overflow_x": null,
       "overflow_y": null,
       "padding": null,
       "right": null,
       "top": null,
       "visibility": null,
       "width": null
      }
     },
     "6b9528e35fac45ca8a21277b48f680a7": {
      "model_module": "@jupyter-widgets/controls",
      "model_module_version": "1.5.0",
      "model_name": "HTMLModel",
      "state": {
       "_dom_classes": [],
       "_model_module": "@jupyter-widgets/controls",
       "_model_module_version": "1.5.0",
       "_model_name": "HTMLModel",
       "_view_count": null,
       "_view_module": "@jupyter-widgets/controls",
       "_view_module_version": "1.5.0",
       "_view_name": "HTMLView",
       "description": "",
       "description_tooltip": null,
       "layout": "IPY_MODEL_337627ba6bba4b7d8cc6c0a825a8aa12",
       "placeholder": "​",
       "style": "IPY_MODEL_4a661dc12338474f965d239bb93f8f06",
       "value": " 95.8M/95.8M [00:02&lt;00:00, 45.5MB/s]"
      }
     },
     "6e5bae610cdb47a7b9a205d302a04bc5": {
      "model_module": "@jupyter-widgets/base",
      "model_module_version": "1.2.0",
      "model_name": "LayoutModel",
      "state": {
       "_model_module": "@jupyter-widgets/base",
       "_model_module_version": "1.2.0",
       "_model_name": "LayoutModel",
       "_view_count": null,
       "_view_module": "@jupyter-widgets/base",
       "_view_module_version": "1.2.0",
       "_view_name": "LayoutView",
       "align_content": null,
       "align_items": null,
       "align_self": null,
       "border": null,
       "bottom": null,
       "display": null,
       "flex": null,
       "flex_flow": null,
       "grid_area": null,
       "grid_auto_columns": null,
       "grid_auto_flow": null,
       "grid_auto_rows": null,
       "grid_column": null,
       "grid_gap": null,
       "grid_row": null,
       "grid_template_areas": null,
       "grid_template_columns": null,
       "grid_template_rows": null,
       "height": null,
       "justify_content": null,
       "justify_items": null,
       "left": null,
       "margin": null,
       "max_height": null,
       "max_width": null,
       "min_height": null,
       "min_width": null,
       "object_fit": null,
       "object_position": null,
       "order": null,
       "overflow": null,
       "overflow_x": null,
       "overflow_y": null,
       "padding": null,
       "right": null,
       "top": null,
       "visibility": null,
       "width": null
      }
     },
     "8926e12f64884b789905df8e426a2138": {
      "model_module": "@jupyter-widgets/controls",
      "model_module_version": "1.5.0",
      "model_name": "LabelModel",
      "state": {
       "_dom_classes": [],
       "_model_module": "@jupyter-widgets/controls",
       "_model_module_version": "1.5.0",
       "_model_name": "LabelModel",
       "_view_count": null,
       "_view_module": "@jupyter-widgets/controls",
       "_view_module_version": "1.5.0",
       "_view_name": "LabelView",
       "description": "",
       "description_tooltip": null,
       "layout": "IPY_MODEL_5b561754602b47c0b3e4b88f8121bea8",
       "placeholder": "​",
       "style": "IPY_MODEL_f518ca78ae28422cb0196a9bb0ff6340",
       "value": ""
      }
     },
     "922b32e2020143a19e614de9aa7232cb": {
      "model_module": "@jupyter-widgets/controls",
      "model_module_version": "1.5.0",
      "model_name": "ProgressStyleModel",
      "state": {
       "_model_module": "@jupyter-widgets/controls",
       "_model_module_version": "1.5.0",
       "_model_name": "ProgressStyleModel",
       "_view_count": null,
       "_view_module": "@jupyter-widgets/base",
       "_view_module_version": "1.2.0",
       "_view_name": "StyleView",
       "bar_color": null,
       "description_width": ""
      }
     },
     "ad53c19d091a4ab5a72de90179dd7349": {
      "model_module": "@jupyter-widgets/controls",
      "model_module_version": "1.5.0",
      "model_name": "HTMLModel",
      "state": {
       "_dom_classes": [],
       "_model_module": "@jupyter-widgets/controls",
       "_model_module_version": "1.5.0",
       "_model_name": "HTMLModel",
       "_view_count": null,
       "_view_module": "@jupyter-widgets/controls",
       "_view_module_version": "1.5.0",
       "_view_name": "HTMLView",
       "description": "",
       "description_tooltip": null,
       "layout": "IPY_MODEL_6e5bae610cdb47a7b9a205d302a04bc5",
       "placeholder": "​",
       "style": "IPY_MODEL_0a2a0da39be64d3194d92a2d4d595eea",
       "value": "100%"
      }
     },
     "b8ae2705c2174178918301aeabaeddc8": {
      "model_module": "@jupyter-widgets/base",
      "model_module_version": "1.2.0",
      "model_name": "LayoutModel",
      "state": {
       "_model_module": "@jupyter-widgets/base",
       "_model_module_version": "1.2.0",
       "_model_name": "LayoutModel",
       "_view_count": null,
       "_view_module": "@jupyter-widgets/base",
       "_view_module_version": "1.2.0",
       "_view_name": "LayoutView",
       "align_content": null,
       "align_items": null,
       "align_self": null,
       "border": null,
       "bottom": null,
       "display": null,
       "flex": null,
       "flex_flow": null,
       "grid_area": null,
       "grid_auto_columns": null,
       "grid_auto_flow": null,
       "grid_auto_rows": null,
       "grid_column": null,
       "grid_gap": null,
       "grid_row": null,
       "grid_template_areas": null,
       "grid_template_columns": null,
       "grid_template_rows": null,
       "height": null,
       "justify_content": null,
       "justify_items": null,
       "left": null,
       "margin": null,
       "max_height": null,
       "max_width": null,
       "min_height": null,
       "min_width": null,
       "object_fit": null,
       "object_position": null,
       "order": null,
       "overflow": null,
       "overflow_x": null,
       "overflow_y": null,
       "padding": null,
       "right": null,
       "top": null,
       "visibility": null,
       "width": null
      }
     },
     "dfd93460753a45cba4f405925e7858fa": {
      "model_module": "@jupyter-widgets/controls",
      "model_module_version": "1.5.0",
      "model_name": "VBoxModel",
      "state": {
       "_dom_classes": [],
       "_model_module": "@jupyter-widgets/controls",
       "_model_module_version": "1.5.0",
       "_model_name": "VBoxModel",
       "_view_count": null,
       "_view_module": "@jupyter-widgets/controls",
       "_view_module_version": "1.5.0",
       "_view_name": "VBoxView",
       "box_style": "",
       "children": [
        "IPY_MODEL_8926e12f64884b789905df8e426a2138",
        "IPY_MODEL_10f6313d177c4aa189bce798a1560587"
       ],
       "layout": "IPY_MODEL_1fc02d4e526145ef9d422a25379f863c"
      }
     },
     "f518ca78ae28422cb0196a9bb0ff6340": {
      "model_module": "@jupyter-widgets/controls",
      "model_module_version": "1.5.0",
      "model_name": "DescriptionStyleModel",
      "state": {
       "_model_module": "@jupyter-widgets/controls",
       "_model_module_version": "1.5.0",
       "_model_name": "DescriptionStyleModel",
       "_view_count": null,
       "_view_module": "@jupyter-widgets/base",
       "_view_module_version": "1.2.0",
       "_view_name": "StyleView",
       "description_width": ""
      }
     },
     "ffe93041819c4515800b754df6486df4": {
      "model_module": "@jupyter-widgets/controls",
      "model_module_version": "1.5.0",
      "model_name": "FloatProgressModel",
      "state": {
       "_dom_classes": [],
       "_model_module": "@jupyter-widgets/controls",
       "_model_module_version": "1.5.0",
       "_model_name": "FloatProgressModel",
       "_view_count": null,
       "_view_module": "@jupyter-widgets/controls",
       "_view_module_version": "1.5.0",
       "_view_name": "ProgressView",
       "bar_style": "success",
       "description": "",
       "description_tooltip": null,
       "layout": "IPY_MODEL_b8ae2705c2174178918301aeabaeddc8",
       "max": 100441675,
       "min": 0,
       "orientation": "horizontal",
       "style": "IPY_MODEL_539f4a87dd6340cf86e1ea78f2f92cfc",
       "value": 100441675
      }
     }
    },
    "version_major": 2,
    "version_minor": 0
   }
  }
 },
 "nbformat": 4,
 "nbformat_minor": 4
}
