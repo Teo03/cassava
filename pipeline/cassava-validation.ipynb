{
 "cells": [
  {
   "cell_type": "markdown",
   "metadata": {},
   "source": [
    "# Use this notebook to try new models and augmentations and validate their performance"
   ]
  },
  {
   "cell_type": "markdown",
   "metadata": {},
   "source": [
    "# Imports"
   ]
  },
  {
   "cell_type": "code",
   "execution_count": 32,
   "metadata": {},
   "outputs": [],
   "source": [
    "from fastai.vision.all import *\n",
    "from fastai.callback.fp16 import *\n",
    "\n",
    "import pandas as pd\n",
    "import numpy as np\n",
    "\n",
    "from sklearn.model_selection import train_test_split, StratifiedKFold\n",
    "import gc\n",
    "\n",
    "#import wandb\n",
    "#from fastai.callback.wandb import *\n",
    "\n",
    "#wandb.init(project=\"cassava\", entity=\"teo03\")"
   ]
  },
  {
   "cell_type": "markdown",
   "metadata": {},
   "source": [
    "# Setup"
   ]
  },
  {
   "cell_type": "code",
   "execution_count": 33,
   "metadata": {},
   "outputs": [],
   "source": [
    "path_str = '../data'\n",
    "PATH = Path(path_str)\n",
    "\n",
    "images_path = Path(path_str + '/train_images')\n",
    "csv_path = Path(path_str + '/train.csv')\n",
    "\n",
    "full_df = pd.read_csv(csv_path)"
   ]
  },
  {
   "cell_type": "markdown",
   "metadata": {},
   "source": [
    "# Create a smaller dataset"
   ]
  },
  {
   "cell_type": "code",
   "execution_count": 34,
   "metadata": {},
   "outputs": [],
   "source": [
    "#msk = np.random.rand(len(full_df)) < 0.1\n",
    "\n",
    "#full_df = full_df[msk]\n",
    "#len(small_df)"
   ]
  },
  {
   "cell_type": "markdown",
   "metadata": {},
   "source": [
    "# Split to train/test sets"
   ]
  },
  {
   "cell_type": "code",
   "execution_count": 35,
   "metadata": {},
   "outputs": [],
   "source": [
    "train_df, test_df = train_test_split(full_df, test_size=0.1)"
   ]
  },
  {
   "cell_type": "code",
   "execution_count": 36,
   "metadata": {},
   "outputs": [
    {
     "data": {
      "text/plain": [
       "(19257, 2140)"
      ]
     },
     "execution_count": 36,
     "metadata": {},
     "output_type": "execute_result"
    }
   ],
   "source": [
    "len(train_df), len(test_df)"
   ]
  },
  {
   "cell_type": "markdown",
   "metadata": {},
   "source": [
    "# Data and helper functions"
   ]
  },
  {
   "cell_type": "code",
   "execution_count": 39,
   "metadata": {},
   "outputs": [],
   "source": [
    "def generate_block(val_index=None):\n",
    "    \n",
    "    def get_x(row): return images_path/row['image_id']\n",
    "    def get_y(row): return row['label']\n",
    "    \n",
    "    \n",
    "    # TRAIN BLOCK\n",
    "    if val_index is not None:\n",
    "        return DataBlock(\n",
    "            blocks=(ImageBlock, CategoryBlock),\n",
    "            get_x=get_x,\n",
    "            get_y=get_y,\n",
    "            splitter=IndexSplitter(val_index),\n",
    "            item_tfms=[\n",
    "                Resize(384),\n",
    "                FlipItem(p=0.4),\n",
    "                RandomCrop(300)\n",
    "            ],\n",
    "            batch_tfms=[RandomResizedCropGPU(280), *aug_transforms(), Normalize.from_stats(*imagenet_stats)]\n",
    "        )\n",
    "    \n",
    "    \n",
    "    # TEST BLOCK\n",
    "    else:\n",
    "        return DataBlock(\n",
    "            blocks=(ImageBlock, CategoryBlock),\n",
    "            get_x=get_x,\n",
    "            get_y=get_y,\n",
    "            item_tfms=[\n",
    "                Resize(384)\n",
    "            ],\n",
    "            batch_tfms=[RandomResizedCropGPU(280), *aug_transforms(), Normalize.from_stats(*imagenet_stats)]\n",
    "        )\n",
    "    "
   ]
  },
  {
   "cell_type": "code",
   "execution_count": 38,
   "metadata": {},
   "outputs": [],
   "source": [
    "def train(dl, arch, epochs=25, freeze_epochs=10):\n",
    "    learn = cnn_learner(\n",
    "        dl,\n",
    "        arch,\n",
    "        metrics=accuracy,\n",
    "        loss_func=LabelSmoothingCrossEntropy(),\n",
    "        opt_func=ranger,\n",
    "        cbs=[\n",
    "            #WandbCallback(log_preds=False, log_model=False, n_preds=10),\n",
    "            SaveModelCallback(fname=str(arch.__name__)),\n",
    "        ],\n",
    "    ).to_fp16()\n",
    "    \n",
    "    lr_min, lr_steep = learn.lr_find()\n",
    "    print('found lr of: ' + str(lr_min))\n",
    "    \n",
    "    learn.fine_tune(epochs, base_lr=round(lr_min, 5), freeze_epochs=freeze_epochs)\n",
    "    \n",
    "    return learn"
   ]
  },
  {
   "cell_type": "code",
   "execution_count": 40,
   "metadata": {},
   "outputs": [],
   "source": [
    "#train_block = generate_block(12)\n",
    "#train_dl = train_block.dataloaders(train_df, bs=8)\n",
    "\n",
    "#train_dl.show_batch()"
   ]
  },
  {
   "cell_type": "markdown",
   "metadata": {},
   "source": [
    "# Validation"
   ]
  },
  {
   "cell_type": "code",
   "execution_count": null,
   "metadata": {},
   "outputs": [],
   "source": [
    "folds = 2\n",
    "skf = StratifiedKFold(n_splits=folds, shuffle=True)"
   ]
  },
  {
   "cell_type": "code",
   "execution_count": 41,
   "metadata": {},
   "outputs": [
    {
     "name": "stdout",
     "output_type": "stream",
     "text": [
      "starting validation on 2 folds\n"
     ]
    },
    {
     "data": {
      "text/html": [],
      "text/plain": [
       "<IPython.core.display.HTML object>"
      ]
     },
     "metadata": {},
     "output_type": "display_data"
    },
    {
     "name": "stdout",
     "output_type": "stream",
     "text": [
      "found lr of: 0.0007585775572806596\n"
     ]
    },
    {
     "data": {
      "text/html": [
       "<table border=\"1\" class=\"dataframe\">\n",
       "  <thead>\n",
       "    <tr style=\"text-align: left;\">\n",
       "      <th>epoch</th>\n",
       "      <th>train_loss</th>\n",
       "      <th>valid_loss</th>\n",
       "      <th>accuracy</th>\n",
       "      <th>time</th>\n",
       "    </tr>\n",
       "  </thead>\n",
       "  <tbody>\n",
       "    <tr>\n",
       "      <td>0</td>\n",
       "      <td>1.513994</td>\n",
       "      <td>1.117912</td>\n",
       "      <td>0.668813</td>\n",
       "      <td>03:33</td>\n",
       "    </tr>\n",
       "  </tbody>\n",
       "</table>"
      ],
      "text/plain": [
       "<IPython.core.display.HTML object>"
      ]
     },
     "metadata": {},
     "output_type": "display_data"
    },
    {
     "name": "stdout",
     "output_type": "stream",
     "text": [
      "Better model found at epoch 0 with valid_loss value: 1.1179120540618896.\n"
     ]
    },
    {
     "data": {
      "text/html": [
       "<table border=\"1\" class=\"dataframe\">\n",
       "  <thead>\n",
       "    <tr style=\"text-align: left;\">\n",
       "      <th>epoch</th>\n",
       "      <th>train_loss</th>\n",
       "      <th>valid_loss</th>\n",
       "      <th>accuracy</th>\n",
       "      <th>time</th>\n",
       "    </tr>\n",
       "  </thead>\n",
       "  <tbody>\n",
       "    <tr>\n",
       "      <td>0</td>\n",
       "      <td>1.281206</td>\n",
       "      <td>0.992215</td>\n",
       "      <td>0.711600</td>\n",
       "      <td>04:28</td>\n",
       "    </tr>\n",
       "  </tbody>\n",
       "</table>"
      ],
      "text/plain": [
       "<IPython.core.display.HTML object>"
      ]
     },
     "metadata": {},
     "output_type": "display_data"
    },
    {
     "name": "stdout",
     "output_type": "stream",
     "text": [
      "Better model found at epoch 0 with valid_loss value: 0.9922152161598206.\n"
     ]
    },
    {
     "data": {
      "text/html": [],
      "text/plain": [
       "<IPython.core.display.HTML object>"
      ]
     },
     "metadata": {},
     "output_type": "display_data"
    },
    {
     "name": "stdout",
     "output_type": "stream",
     "text": [
      "Better model found at epoch 0 with valid_loss value: 0.7116003632545471.\n"
     ]
    },
    {
     "data": {
      "text/html": [],
      "text/plain": [
       "<IPython.core.display.HTML object>"
      ]
     },
     "metadata": {},
     "output_type": "display_data"
    },
    {
     "name": "stdout",
     "output_type": "stream",
     "text": [
      "Better model found at epoch 0 with valid_loss value: 0.7143691778182983.\n",
      "done, appending results..\n",
      "starting validation on 2 folds\n"
     ]
    },
    {
     "data": {
      "text/html": [],
      "text/plain": [
       "<IPython.core.display.HTML object>"
      ]
     },
     "metadata": {},
     "output_type": "display_data"
    },
    {
     "name": "stdout",
     "output_type": "stream",
     "text": [
      "found lr of: 0.006918309628963471\n"
     ]
    },
    {
     "data": {
      "text/html": [
       "<table border=\"1\" class=\"dataframe\">\n",
       "  <thead>\n",
       "    <tr style=\"text-align: left;\">\n",
       "      <th>epoch</th>\n",
       "      <th>train_loss</th>\n",
       "      <th>valid_loss</th>\n",
       "      <th>accuracy</th>\n",
       "      <th>time</th>\n",
       "    </tr>\n",
       "  </thead>\n",
       "  <tbody>\n",
       "    <tr>\n",
       "      <td>0</td>\n",
       "      <td>1.349707</td>\n",
       "      <td>1.120273</td>\n",
       "      <td>0.663897</td>\n",
       "      <td>03:37</td>\n",
       "    </tr>\n",
       "  </tbody>\n",
       "</table>"
      ],
      "text/plain": [
       "<IPython.core.display.HTML object>"
      ]
     },
     "metadata": {},
     "output_type": "display_data"
    },
    {
     "name": "stdout",
     "output_type": "stream",
     "text": [
      "Better model found at epoch 0 with valid_loss value: 1.1202726364135742.\n"
     ]
    },
    {
     "data": {
      "text/html": [
       "<table border=\"1\" class=\"dataframe\">\n",
       "  <thead>\n",
       "    <tr style=\"text-align: left;\">\n",
       "      <th>epoch</th>\n",
       "      <th>train_loss</th>\n",
       "      <th>valid_loss</th>\n",
       "      <th>accuracy</th>\n",
       "      <th>time</th>\n",
       "    </tr>\n",
       "  </thead>\n",
       "  <tbody>\n",
       "    <tr>\n",
       "      <td>0</td>\n",
       "      <td>0.971666</td>\n",
       "      <td>0.854612</td>\n",
       "      <td>0.782198</td>\n",
       "      <td>04:16</td>\n",
       "    </tr>\n",
       "  </tbody>\n",
       "</table>"
      ],
      "text/plain": [
       "<IPython.core.display.HTML object>"
      ]
     },
     "metadata": {},
     "output_type": "display_data"
    },
    {
     "name": "stdout",
     "output_type": "stream",
     "text": [
      "Better model found at epoch 0 with valid_loss value: 0.8546119928359985.\n"
     ]
    },
    {
     "data": {
      "text/html": [],
      "text/plain": [
       "<IPython.core.display.HTML object>"
      ]
     },
     "metadata": {},
     "output_type": "display_data"
    },
    {
     "name": "stdout",
     "output_type": "stream",
     "text": [
      "Better model found at epoch 0 with valid_loss value: 0.7821977734565735.\n"
     ]
    },
    {
     "data": {
      "text/html": [],
      "text/plain": [
       "<IPython.core.display.HTML object>"
      ]
     },
     "metadata": {},
     "output_type": "display_data"
    },
    {
     "name": "stdout",
     "output_type": "stream",
     "text": [
      "Better model found at epoch 0 with valid_loss value: 0.773948609828949.\n",
      "done, appending results..\n"
     ]
    },
    {
     "data": {
      "image/png": "[encoded data removed]",
      "text/plain": [
       "<Figure size 432x288 with 1 Axes>"
      ]
     },
     "metadata": {
      "needs_background": "light"
     },
     "output_type": "display_data"
    },
    {
     "data": {
      "image/png": "[encoded data removed]",
      "text/plain": [
       "<Figure size 432x288 with 1 Axes>"
      ]
     },
     "metadata": {
      "needs_background": "light"
     },
     "output_type": "display_data"
    }
   ],
   "source": [
    "val_pct = []\n",
    "test_pct = []\n",
    "\n",
    "for train_index, val_index in skf.split(train_df.index, train_df['label']):\n",
    "    print('starting validation on ' + str(folds) + ' folds \\n' )\n",
    "    \n",
    "    batch_size = 8\n",
    "    \n",
    "    train_block = generate_block(val_index)\n",
    "    train_dl = train_block.dataloaders(train_df, bs=batch_size)\n",
    "    \n",
    "    test_block = generate_block()\n",
    "    test_dl = test_block.dataloaders(test_df, bs=batch_size)\n",
    "    \n",
    "    \n",
    "    test_dl.valid = test_dl.train\n",
    "    \n",
    "    learn = train(train_dl, resnet18, 1, 1)\n",
    "    _, val = learn.validate()\n",
    "    \n",
    "    learn.dls.valid = test_dl.valid\n",
    "    _, test = learn.validate()\n",
    "  \n",
    "\n",
    "    print('done, appending results.. \\n')\n",
    "\n",
    "    val_pct.append(val)\n",
    "    test_pct.append(test)"
   ]
  },
  {
   "cell_type": "code",
   "execution_count": 42,
   "metadata": {},
   "outputs": [
    {
     "name": "stdout",
     "output_type": "stream",
     "text": [
      "Validation\n",
      "mean: 0.7468990683555603\n",
      "std: 0.035298705101013184\n"
     ]
    }
   ],
   "source": [
    "print(f'Validation\\nmean: {np.mean(val_pct)}\\nstd: {np.std(val_pct)}')"
   ]
  },
  {
   "cell_type": "code",
   "execution_count": 43,
   "metadata": {},
   "outputs": [
    {
     "name": "stdout",
     "output_type": "stream",
     "text": [
      "Test\n",
      "mean: 0.7441588938236237\n",
      "std: 0.029789716005325317\n"
     ]
    }
   ],
   "source": [
    "print(f'Test\\nmean: {np.mean(test_pct)}\\nstd: {np.std(test_pct)}')"
   ]
  },
  {
   "cell_type": "markdown",
   "metadata": {},
   "source": [
    "If the model is good use that architecture and parameters to train on more epochs"
   ]
  }
 ],
 "metadata": {
  "kernelspec": {
   "display_name": "Python 3",
   "language": "python",
   "name": "python3"
  },
  "language_info": {
   "codemirror_mode": {
    "name": "ipython",
    "version": 3
   },
   "file_extension": ".py",
   "mimetype": "text/x-python",
   "name": "python",
   "nbconvert_exporter": "python",
   "pygments_lexer": "ipython3",
   "version": "3.8.5"
  }
 },
 "nbformat": 4,
 "nbformat_minor": 4
}
